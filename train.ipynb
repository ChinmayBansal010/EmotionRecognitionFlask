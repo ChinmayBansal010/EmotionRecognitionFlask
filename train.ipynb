{
 "cells": [
  {
   "cell_type": "code",
   "execution_count": 2,
   "id": "2f00c374",
   "metadata": {},
   "outputs": [],
   "source": [
    "import torch\n",
    "import torch.nn as nn\n",
    "import torch.optim as optim\n",
    "from torch.optim.lr_scheduler import CosineAnnealingLR\n",
    "from torchvision import datasets, transforms\n",
    "from torch.utils.data import DataLoader\n",
    "from torch.amp import GradScaler, autocast\n",
    "from torchvision.models import resnet34, ResNet34_Weights\n",
    "import time"
   ]
  },
  {
   "cell_type": "code",
   "execution_count": 3,
   "id": "4c7c707a",
   "metadata": {},
   "outputs": [],
   "source": [
    "train_transform = transforms.Compose([\n",
    "    transforms.Grayscale(num_output_channels=3),  # ResNet expects 3 channels\n",
    "    transforms.Resize((48, 48)),\n",
    "    transforms.RandomHorizontalFlip(p=0.7),\n",
    "    transforms.RandomRotation(25),\n",
    "    transforms.ColorJitter(brightness=0.3, contrast=0.3),\n",
    "    transforms.RandomAffine(degrees=0, translate=(0.1, 0.1), scale=(0.9, 1.1)),\n",
    "    transforms.GaussianBlur(1),\n",
    "    transforms.RandomPerspective(distortion_scale=0.2, p=0.2),\n",
    "    transforms.ToTensor(),\n",
    "])\n",
    "\n",
    "val_transform = transforms.Compose([\n",
    "    transforms.Grayscale(num_output_channels=3),  # Same here\n",
    "    transforms.Resize((48, 48)),\n",
    "    transforms.ToTensor(),\n",
    "])\n"
   ]
  },
  {
   "cell_type": "code",
   "execution_count": 4,
   "id": "c1c5fec0",
   "metadata": {},
   "outputs": [],
   "source": [
    "train_data = datasets.ImageFolder(\"data/train\", transform=train_transform)\n",
    "val_data = datasets.ImageFolder(\"data/test\", transform=val_transform)\n",
    "\n",
    "train_loader = DataLoader(train_data, batch_size=64, shuffle=True, pin_memory=True, num_workers=4)\n",
    "val_loader = DataLoader(val_data, batch_size=64, shuffle=False, pin_memory=True, num_workers=4)"
   ]
  },
  {
   "cell_type": "code",
   "execution_count": 5,
   "id": "a0bbf515",
   "metadata": {},
   "outputs": [],
   "source": [
    "class EmotionResNet34(nn.Module):\n",
    "    def __init__(self, num_classes=7):\n",
    "        super().__init__()\n",
    "        self.model = resnet34(weights=ResNet34_Weights.IMAGENET1K_V1)\n",
    "        self.model.fc = nn.Linear(self.model.fc.in_features, num_classes)\n",
    "\n",
    "    def forward(self, x):\n",
    "        return self.model(x)\n",
    "\n",
    "device = torch.device(\"cuda\" if torch.cuda.is_available() else \"cpu\")\n",
    "model = EmotionResNet34().to(device)"
   ]
  },
  {
   "cell_type": "code",
   "execution_count": null,
   "id": "498ddf52",
   "metadata": {},
   "outputs": [],
   "source": [
    "criterion = nn.CrossEntropyLoss(label_smoothing=0.1)\n",
    "optimizer = optim.AdamW(model.parameters(), lr=8.970677769864372e-05, weight_decay=3.162877801888854e-05)\n",
    "# scheduler = optim.lr_scheduler.ReduceLROnPlateau(optimizer, 'min', patience=2, factor=0.5)\n",
    "scheduler = CosineAnnealingLR(optimizer, T_max=50, eta_min=1e-6) \n",
    "scaler = GradScaler(enabled=torch.cuda.is_available())\n",
    "\n",
    "best_val_loss = float('inf')\n",
    "best_model_wts = None\n",
    "patience = 7\n",
    "epochs_no_improve = 0\n",
    "best_val_acc = 0"
   ]
  },
  {
   "cell_type": "code",
   "execution_count": 18,
   "id": "82418e3d",
   "metadata": {},
   "outputs": [],
   "source": [
    "import optuna\n",
    "from torch.optim.lr_scheduler import CosineAnnealingLR\n",
    "from tqdm.notebook import tqdm\n",
    "\n",
    "def objective(trial):\n",
    "    # 🔧 Suggest hyperparameters\n",
    "    lr = trial.suggest_float('lr', 1e-5, 1e-3, log=True)\n",
    "    weight_decay = trial.suggest_float('weight_decay', 1e-6, 1e-3, log=True)\n",
    "\n",
    "    # ⚙️ Setup model, optimizer, scheduler, loss\n",
    "    model = EmotionResNet34().to(device)  # Replace with your model if different\n",
    "    optimizer = optim.AdamW(model.parameters(), lr=lr, weight_decay=weight_decay)\n",
    "    scheduler = CosineAnnealingLR(optimizer, T_max=50, eta_min=1e-6) \n",
    "    criterion = nn.CrossEntropyLoss(label_smoothing=0.1)\n",
    "    scaler = GradScaler(enabled=torch.cuda.is_available())\n",
    "\n",
    "    best_val_acc = 0\n",
    "    best_val_loss = float('inf')\n",
    "    best_model_wts = None\n",
    "    epochs = 20  # full training, no early stopping\n",
    "\n",
    "    for epoch in tqdm(range(epochs), desc=f\"Trial {trial.number}\"):\n",
    "        model.train()\n",
    "        total_loss = 0\n",
    "        for images, labels in train_loader:\n",
    "            images, labels = images.to(device), labels.to(device)\n",
    "\n",
    "            optimizer.zero_grad()\n",
    "            with autocast(device_type='cuda'):\n",
    "                outputs = model(images)\n",
    "                loss = criterion(outputs, labels)\n",
    "\n",
    "            scaler.scale(loss).backward()\n",
    "            scaler.step(optimizer)\n",
    "            scaler.update()\n",
    "\n",
    "            total_loss += loss.item()\n",
    "\n",
    "        # 🔎 Validation\n",
    "        model.eval()\n",
    "        correct, total, val_loss = 0, 0, 0\n",
    "        with torch.no_grad():\n",
    "            for images, labels in val_loader:\n",
    "                images, labels = images.to(device), labels.to(device)\n",
    "                with autocast(device_type='cuda'):\n",
    "                    outputs = model(images)\n",
    "                    loss = criterion(outputs, labels)\n",
    "                val_loss += loss.item()\n",
    "                _, preds = torch.max(outputs, 1)\n",
    "                correct += (preds == labels).sum().item()\n",
    "                total += labels.size(0)\n",
    "\n",
    "        val_loss /= len(val_loader)\n",
    "        val_acc = 100 * correct / total\n",
    "        scheduler.step(val_loss)\n",
    "\n",
    "        if val_loss < best_val_loss:\n",
    "            best_val_loss = val_loss\n",
    "            best_model_wts = model.state_dict()\n",
    "\n",
    "        if val_acc > best_val_acc:\n",
    "            best_val_acc = val_acc\n",
    "            torch.save(model.state_dict(), f\"optuna_best_model_trial_{trial.number}.pth\")\n",
    "            print(f\"💾 Trial {trial.number}: Saved model with acc {val_acc:.2f}%\")\n",
    "\n",
    "    # 🔄 Restore best model weights\n",
    "    if best_model_wts is not None:\n",
    "        model.load_state_dict(best_model_wts)\n",
    "\n",
    "    return best_val_acc\n"
   ]
  },
  {
   "cell_type": "code",
   "execution_count": 19,
   "id": "5c093083",
   "metadata": {},
   "outputs": [
    {
     "name": "stderr",
     "output_type": "stream",
     "text": [
      "[I 2025-07-02 01:33:14,774] A new study created in memory with name: no-name-a114d4e8-44b5-4a81-ba38-3e4ea60d0d51\n"
     ]
    },
    {
     "data": {
      "application/vnd.jupyter.widget-view+json": {
       "model_id": "a968faaa9da945ffb5579b789d16054d",
       "version_major": 2,
       "version_minor": 0
      },
      "text/plain": [
       "Optuna Trials:   0%|          | 0/30 [00:00<?, ?it/s]"
      ]
     },
     "metadata": {},
     "output_type": "display_data"
    },
    {
     "data": {
      "application/vnd.jupyter.widget-view+json": {
       "model_id": "5b01e79b8b9d421da1e9171aee2dbbfb",
       "version_major": 2,
       "version_minor": 0
      },
      "text/plain": [
       "Trial 0:   0%|          | 0/20 [00:00<?, ?it/s]"
      ]
     },
     "metadata": {},
     "output_type": "display_data"
    },
    {
     "name": "stdout",
     "output_type": "stream",
     "text": [
      "💾 Trial 0: Saved model with acc 45.37%\n",
      "💾 Trial 0: Saved model with acc 49.61%\n",
      "💾 Trial 0: Saved model with acc 52.15%\n",
      "💾 Trial 0: Saved model with acc 53.21%\n",
      "💾 Trial 0: Saved model with acc 54.80%\n",
      "💾 Trial 0: Saved model with acc 56.30%\n",
      "💾 Trial 0: Saved model with acc 57.74%\n",
      "💾 Trial 0: Saved model with acc 59.21%\n",
      "💾 Trial 0: Saved model with acc 59.40%\n",
      "💾 Trial 0: Saved model with acc 60.55%\n",
      "💾 Trial 0: Saved model with acc 60.79%\n",
      "💾 Trial 0: Saved model with acc 61.65%\n",
      "💾 Trial 0: Saved model with acc 61.89%\n"
     ]
    },
    {
     "name": "stderr",
     "output_type": "stream",
     "text": [
      "[I 2025-07-02 01:50:16,973] Trial 0 finished with value: 62.32142857142857 and parameters: {'lr': 3.004139144576653e-05, 'weight_decay': 2.2208210359455036e-05}. Best is trial 0 with value: 62.32142857142857.\n"
     ]
    },
    {
     "name": "stdout",
     "output_type": "stream",
     "text": [
      "💾 Trial 0: Saved model with acc 62.32%\n"
     ]
    },
    {
     "data": {
      "application/vnd.jupyter.widget-view+json": {
       "model_id": "4879396bf6d44eb0a5ba448b79d3ff0f",
       "version_major": 2,
       "version_minor": 0
      },
      "text/plain": [
       "Trial 1:   0%|          | 0/20 [00:00<?, ?it/s]"
      ]
     },
     "metadata": {},
     "output_type": "display_data"
    },
    {
     "name": "stdout",
     "output_type": "stream",
     "text": [
      "💾 Trial 1: Saved model with acc 51.43%\n",
      "💾 Trial 1: Saved model with acc 55.46%\n",
      "💾 Trial 1: Saved model with acc 56.17%\n",
      "💾 Trial 1: Saved model with acc 58.04%\n",
      "💾 Trial 1: Saved model with acc 59.14%\n",
      "💾 Trial 1: Saved model with acc 59.68%\n",
      "💾 Trial 1: Saved model with acc 60.57%\n",
      "💾 Trial 1: Saved model with acc 61.35%\n",
      "💾 Trial 1: Saved model with acc 61.43%\n",
      "💾 Trial 1: Saved model with acc 61.55%\n",
      "💾 Trial 1: Saved model with acc 62.82%\n",
      "💾 Trial 1: Saved model with acc 64.08%\n"
     ]
    },
    {
     "name": "stderr",
     "output_type": "stream",
     "text": [
      "[I 2025-07-02 02:07:53,335] Trial 1 finished with value: 64.08333333333333 and parameters: {'lr': 0.00011941227068291235, 'weight_decay': 4.0056005604764385e-05}. Best is trial 1 with value: 64.08333333333333.\n"
     ]
    },
    {
     "data": {
      "application/vnd.jupyter.widget-view+json": {
       "model_id": "d58fb4d5d5f24c2b9f96a8bd6117e617",
       "version_major": 2,
       "version_minor": 0
      },
      "text/plain": [
       "Trial 2:   0%|          | 0/20 [00:00<?, ?it/s]"
      ]
     },
     "metadata": {},
     "output_type": "display_data"
    },
    {
     "name": "stdout",
     "output_type": "stream",
     "text": [
      "💾 Trial 2: Saved model with acc 37.07%\n",
      "💾 Trial 2: Saved model with acc 42.71%\n",
      "💾 Trial 2: Saved model with acc 46.95%\n",
      "💾 Trial 2: Saved model with acc 49.35%\n",
      "💾 Trial 2: Saved model with acc 50.96%\n",
      "💾 Trial 2: Saved model with acc 51.56%\n",
      "💾 Trial 2: Saved model with acc 53.36%\n",
      "💾 Trial 2: Saved model with acc 54.92%\n",
      "💾 Trial 2: Saved model with acc 55.81%\n",
      "💾 Trial 2: Saved model with acc 56.45%\n",
      "💾 Trial 2: Saved model with acc 56.81%\n",
      "💾 Trial 2: Saved model with acc 57.51%\n",
      "💾 Trial 2: Saved model with acc 57.79%\n",
      "💾 Trial 2: Saved model with acc 58.88%\n",
      "💾 Trial 2: Saved model with acc 59.29%\n",
      "💾 Trial 2: Saved model with acc 59.60%\n"
     ]
    },
    {
     "name": "stderr",
     "output_type": "stream",
     "text": [
      "[I 2025-07-02 02:25:26,962] Trial 2 finished with value: 59.726190476190474 and parameters: {'lr': 1.2403832623224712e-05, 'weight_decay': 1.8239923848941452e-05}. Best is trial 1 with value: 64.08333333333333.\n"
     ]
    },
    {
     "name": "stdout",
     "output_type": "stream",
     "text": [
      "💾 Trial 2: Saved model with acc 59.73%\n"
     ]
    },
    {
     "data": {
      "application/vnd.jupyter.widget-view+json": {
       "model_id": "729d29fabd8c4145ab0fe801015937f5",
       "version_major": 2,
       "version_minor": 0
      },
      "text/plain": [
       "Trial 3:   0%|          | 0/20 [00:00<?, ?it/s]"
      ]
     },
     "metadata": {},
     "output_type": "display_data"
    },
    {
     "name": "stdout",
     "output_type": "stream",
     "text": [
      "💾 Trial 3: Saved model with acc 33.77%\n",
      "💾 Trial 3: Saved model with acc 50.55%\n",
      "💾 Trial 3: Saved model with acc 54.17%\n",
      "💾 Trial 3: Saved model with acc 57.80%\n",
      "💾 Trial 3: Saved model with acc 59.55%\n",
      "💾 Trial 3: Saved model with acc 60.11%\n",
      "💾 Trial 3: Saved model with acc 60.93%\n",
      "💾 Trial 3: Saved model with acc 61.63%\n"
     ]
    },
    {
     "name": "stderr",
     "output_type": "stream",
     "text": [
      "[I 2025-07-02 02:43:05,924] Trial 3 finished with value: 61.63095238095238 and parameters: {'lr': 0.000714529252405399, 'weight_decay': 0.00020752259682712008}. Best is trial 1 with value: 64.08333333333333.\n"
     ]
    },
    {
     "data": {
      "application/vnd.jupyter.widget-view+json": {
       "model_id": "be6d23989c8d46bdb17e33b9fa123843",
       "version_major": 2,
       "version_minor": 0
      },
      "text/plain": [
       "Trial 4:   0%|          | 0/20 [00:00<?, ?it/s]"
      ]
     },
     "metadata": {},
     "output_type": "display_data"
    },
    {
     "name": "stdout",
     "output_type": "stream",
     "text": [
      "💾 Trial 4: Saved model with acc 49.42%\n",
      "💾 Trial 4: Saved model with acc 55.02%\n",
      "💾 Trial 4: Saved model with acc 57.11%\n",
      "💾 Trial 4: Saved model with acc 58.11%\n",
      "💾 Trial 4: Saved model with acc 59.85%\n",
      "💾 Trial 4: Saved model with acc 60.85%\n",
      "💾 Trial 4: Saved model with acc 61.01%\n",
      "💾 Trial 4: Saved model with acc 61.94%\n",
      "💾 Trial 4: Saved model with acc 62.98%\n",
      "💾 Trial 4: Saved model with acc 63.75%\n",
      "💾 Trial 4: Saved model with acc 63.89%\n"
     ]
    },
    {
     "name": "stderr",
     "output_type": "stream",
     "text": [
      "[I 2025-07-02 03:00:46,193] Trial 4 finished with value: 64.5 and parameters: {'lr': 0.00018902427389226508, 'weight_decay': 4.0841518438046586e-05}. Best is trial 4 with value: 64.5.\n"
     ]
    },
    {
     "name": "stdout",
     "output_type": "stream",
     "text": [
      "💾 Trial 4: Saved model with acc 64.50%\n"
     ]
    },
    {
     "data": {
      "application/vnd.jupyter.widget-view+json": {
       "model_id": "f5f08d05fd9446169d85c5f9cc3a3407",
       "version_major": 2,
       "version_minor": 0
      },
      "text/plain": [
       "Trial 5:   0%|          | 0/20 [00:00<?, ?it/s]"
      ]
     },
     "metadata": {},
     "output_type": "display_data"
    },
    {
     "name": "stdout",
     "output_type": "stream",
     "text": [
      "💾 Trial 5: Saved model with acc 51.55%\n",
      "💾 Trial 5: Saved model with acc 51.77%\n",
      "💾 Trial 5: Saved model with acc 55.65%\n",
      "💾 Trial 5: Saved model with acc 56.39%\n",
      "💾 Trial 5: Saved model with acc 56.85%\n",
      "💾 Trial 5: Saved model with acc 58.87%\n",
      "💾 Trial 5: Saved model with acc 59.68%\n",
      "💾 Trial 5: Saved model with acc 60.79%\n",
      "💾 Trial 5: Saved model with acc 62.13%\n"
     ]
    },
    {
     "name": "stderr",
     "output_type": "stream",
     "text": [
      "[I 2025-07-02 03:18:20,683] Trial 5 finished with value: 62.13095238095238 and parameters: {'lr': 0.00042642782221561997, 'weight_decay': 1.4634455199119753e-06}. Best is trial 4 with value: 64.5.\n"
     ]
    },
    {
     "data": {
      "application/vnd.jupyter.widget-view+json": {
       "model_id": "b8b47e3d86b94f3f8e8ce8f32bd62198",
       "version_major": 2,
       "version_minor": 0
      },
      "text/plain": [
       "Trial 6:   0%|          | 0/20 [00:00<?, ?it/s]"
      ]
     },
     "metadata": {},
     "output_type": "display_data"
    },
    {
     "name": "stdout",
     "output_type": "stream",
     "text": [
      "💾 Trial 6: Saved model with acc 41.54%\n",
      "💾 Trial 6: Saved model with acc 49.64%\n",
      "💾 Trial 6: Saved model with acc 51.92%\n",
      "💾 Trial 6: Saved model with acc 52.85%\n",
      "💾 Trial 6: Saved model with acc 55.19%\n",
      "💾 Trial 6: Saved model with acc 56.11%\n",
      "💾 Trial 6: Saved model with acc 56.44%\n",
      "💾 Trial 6: Saved model with acc 58.29%\n",
      "💾 Trial 6: Saved model with acc 58.57%\n",
      "💾 Trial 6: Saved model with acc 59.36%\n",
      "💾 Trial 6: Saved model with acc 60.23%\n",
      "💾 Trial 6: Saved model with acc 60.62%\n",
      "💾 Trial 6: Saved model with acc 61.26%\n",
      "💾 Trial 6: Saved model with acc 61.57%\n",
      "💾 Trial 6: Saved model with acc 62.46%\n"
     ]
    },
    {
     "name": "stderr",
     "output_type": "stream",
     "text": [
      "[I 2025-07-02 03:35:56,351] Trial 6 finished with value: 62.464285714285715 and parameters: {'lr': 2.466796355325639e-05, 'weight_decay': 3.8992170569634875e-05}. Best is trial 4 with value: 64.5.\n"
     ]
    },
    {
     "data": {
      "application/vnd.jupyter.widget-view+json": {
       "model_id": "b0fcb3a057d740d381d492f2e1066671",
       "version_major": 2,
       "version_minor": 0
      },
      "text/plain": [
       "Trial 7:   0%|          | 0/20 [00:00<?, ?it/s]"
      ]
     },
     "metadata": {},
     "output_type": "display_data"
    },
    {
     "name": "stdout",
     "output_type": "stream",
     "text": [
      "💾 Trial 7: Saved model with acc 50.05%\n",
      "💾 Trial 7: Saved model with acc 53.51%\n",
      "💾 Trial 7: Saved model with acc 55.76%\n",
      "💾 Trial 7: Saved model with acc 57.37%\n",
      "💾 Trial 7: Saved model with acc 58.52%\n",
      "💾 Trial 7: Saved model with acc 59.27%\n",
      "💾 Trial 7: Saved model with acc 59.96%\n",
      "💾 Trial 7: Saved model with acc 61.15%\n",
      "💾 Trial 7: Saved model with acc 61.30%\n",
      "💾 Trial 7: Saved model with acc 63.33%\n",
      "💾 Trial 7: Saved model with acc 64.15%\n",
      "💾 Trial 7: Saved model with acc 64.57%\n"
     ]
    },
    {
     "name": "stderr",
     "output_type": "stream",
     "text": [
      "[I 2025-07-02 03:53:39,417] Trial 7 finished with value: 64.57142857142857 and parameters: {'lr': 8.970677769864372e-05, 'weight_decay': 3.162877801888854e-05}. Best is trial 7 with value: 64.57142857142857.\n"
     ]
    },
    {
     "data": {
      "application/vnd.jupyter.widget-view+json": {
       "model_id": "dcddddb86ff344e0a6a9019c5f3304d5",
       "version_major": 2,
       "version_minor": 0
      },
      "text/plain": [
       "Trial 8:   0%|          | 0/20 [00:00<?, ?it/s]"
      ]
     },
     "metadata": {},
     "output_type": "display_data"
    },
    {
     "name": "stdout",
     "output_type": "stream",
     "text": [
      "💾 Trial 8: Saved model with acc 48.73%\n",
      "💾 Trial 8: Saved model with acc 53.62%\n",
      "💾 Trial 8: Saved model with acc 56.42%\n",
      "💾 Trial 8: Saved model with acc 56.82%\n",
      "💾 Trial 8: Saved model with acc 57.58%\n",
      "💾 Trial 8: Saved model with acc 59.12%\n",
      "💾 Trial 8: Saved model with acc 60.83%\n",
      "💾 Trial 8: Saved model with acc 61.14%\n",
      "💾 Trial 8: Saved model with acc 61.17%\n",
      "💾 Trial 8: Saved model with acc 62.14%\n"
     ]
    },
    {
     "name": "stderr",
     "output_type": "stream",
     "text": [
      "[I 2025-07-02 04:11:13,318] Trial 8 finished with value: 62.142857142857146 and parameters: {'lr': 0.0005685121232002138, 'weight_decay': 4.216734482756825e-05}. Best is trial 7 with value: 64.57142857142857.\n"
     ]
    },
    {
     "data": {
      "application/vnd.jupyter.widget-view+json": {
       "model_id": "cd1338e464c4442d817f94352b3adfbb",
       "version_major": 2,
       "version_minor": 0
      },
      "text/plain": [
       "Trial 9:   0%|          | 0/20 [00:00<?, ?it/s]"
      ]
     },
     "metadata": {},
     "output_type": "display_data"
    },
    {
     "name": "stdout",
     "output_type": "stream",
     "text": [
      "💾 Trial 9: Saved model with acc 52.19%\n",
      "💾 Trial 9: Saved model with acc 55.06%\n",
      "💾 Trial 9: Saved model with acc 55.77%\n",
      "💾 Trial 9: Saved model with acc 57.96%\n",
      "💾 Trial 9: Saved model with acc 59.65%\n",
      "💾 Trial 9: Saved model with acc 60.83%\n",
      "💾 Trial 9: Saved model with acc 61.42%\n",
      "💾 Trial 9: Saved model with acc 61.70%\n",
      "💾 Trial 9: Saved model with acc 62.70%\n",
      "💾 Trial 9: Saved model with acc 64.32%\n"
     ]
    },
    {
     "name": "stderr",
     "output_type": "stream",
     "text": [
      "[I 2025-07-02 04:28:51,255] Trial 9 finished with value: 64.32142857142857 and parameters: {'lr': 0.00029083975822457176, 'weight_decay': 3.678163661067231e-06}. Best is trial 7 with value: 64.57142857142857.\n"
     ]
    },
    {
     "data": {
      "application/vnd.jupyter.widget-view+json": {
       "model_id": "7eb82801afe944ab8fbac4fe2b138b07",
       "version_major": 2,
       "version_minor": 0
      },
      "text/plain": [
       "Trial 10:   0%|          | 0/20 [00:00<?, ?it/s]"
      ]
     },
     "metadata": {},
     "output_type": "display_data"
    },
    {
     "name": "stdout",
     "output_type": "stream",
     "text": [
      "💾 Trial 10: Saved model with acc 49.46%\n",
      "💾 Trial 10: Saved model with acc 53.33%\n",
      "💾 Trial 10: Saved model with acc 54.24%\n",
      "💾 Trial 10: Saved model with acc 57.50%\n",
      "💾 Trial 10: Saved model with acc 59.17%\n",
      "💾 Trial 10: Saved model with acc 59.96%\n",
      "💾 Trial 10: Saved model with acc 60.29%\n",
      "💾 Trial 10: Saved model with acc 60.76%\n",
      "💾 Trial 10: Saved model with acc 61.58%\n",
      "💾 Trial 10: Saved model with acc 61.76%\n",
      "💾 Trial 10: Saved model with acc 62.36%\n",
      "💾 Trial 10: Saved model with acc 62.85%\n",
      "💾 Trial 10: Saved model with acc 63.82%\n"
     ]
    },
    {
     "name": "stderr",
     "output_type": "stream",
     "text": [
      "[I 2025-07-02 04:46:29,938] Trial 10 finished with value: 63.82142857142857 and parameters: {'lr': 6.220062707883707e-05, 'weight_decay': 0.0007891890642615408}. Best is trial 7 with value: 64.57142857142857.\n"
     ]
    },
    {
     "data": {
      "application/vnd.jupyter.widget-view+json": {
       "model_id": "f08a1f2f979a49fcaa410a17942fa4f9",
       "version_major": 2,
       "version_minor": 0
      },
      "text/plain": [
       "Trial 11:   0%|          | 0/20 [00:00<?, ?it/s]"
      ]
     },
     "metadata": {},
     "output_type": "display_data"
    },
    {
     "name": "stdout",
     "output_type": "stream",
     "text": [
      "💾 Trial 11: Saved model with acc 50.95%\n",
      "💾 Trial 11: Saved model with acc 56.32%\n",
      "💾 Trial 11: Saved model with acc 56.82%\n",
      "💾 Trial 11: Saved model with acc 57.17%\n",
      "💾 Trial 11: Saved model with acc 58.65%\n",
      "💾 Trial 11: Saved model with acc 59.61%\n",
      "💾 Trial 11: Saved model with acc 60.55%\n",
      "💾 Trial 11: Saved model with acc 61.04%\n",
      "💾 Trial 11: Saved model with acc 62.71%\n",
      "💾 Trial 11: Saved model with acc 63.13%\n",
      "💾 Trial 11: Saved model with acc 64.08%\n"
     ]
    },
    {
     "name": "stderr",
     "output_type": "stream",
     "text": [
      "[I 2025-07-02 05:03:36,314] Trial 11 finished with value: 64.08333333333333 and parameters: {'lr': 0.00015793282763879016, 'weight_decay': 0.0001475611520620096}. Best is trial 7 with value: 64.57142857142857.\n"
     ]
    },
    {
     "data": {
      "application/vnd.jupyter.widget-view+json": {
       "model_id": "e0830d5e17c7470583040c26b62981bc",
       "version_major": 2,
       "version_minor": 0
      },
      "text/plain": [
       "Trial 12:   0%|          | 0/20 [00:00<?, ?it/s]"
      ]
     },
     "metadata": {},
     "output_type": "display_data"
    },
    {
     "name": "stdout",
     "output_type": "stream",
     "text": [
      "💾 Trial 12: Saved model with acc 49.05%\n",
      "💾 Trial 12: Saved model with acc 53.49%\n",
      "💾 Trial 12: Saved model with acc 56.32%\n",
      "💾 Trial 12: Saved model with acc 57.48%\n",
      "💾 Trial 12: Saved model with acc 59.81%\n",
      "💾 Trial 12: Saved model with acc 60.64%\n",
      "💾 Trial 12: Saved model with acc 61.82%\n",
      "💾 Trial 12: Saved model with acc 62.12%\n",
      "💾 Trial 12: Saved model with acc 62.14%\n",
      "💾 Trial 12: Saved model with acc 62.20%\n",
      "💾 Trial 12: Saved model with acc 62.93%\n"
     ]
    },
    {
     "name": "stderr",
     "output_type": "stream",
     "text": [
      "[I 2025-07-02 05:20:20,693] Trial 12 finished with value: 62.92857142857143 and parameters: {'lr': 6.775146920491535e-05, 'weight_decay': 7.098169640615627e-06}. Best is trial 7 with value: 64.57142857142857.\n"
     ]
    },
    {
     "data": {
      "application/vnd.jupyter.widget-view+json": {
       "model_id": "f85d0af4d33b483b81daa2fc59e91668",
       "version_major": 2,
       "version_minor": 0
      },
      "text/plain": [
       "Trial 13:   0%|          | 0/20 [00:00<?, ?it/s]"
      ]
     },
     "metadata": {},
     "output_type": "display_data"
    },
    {
     "name": "stdout",
     "output_type": "stream",
     "text": [
      "💾 Trial 13: Saved model with acc 50.43%\n",
      "💾 Trial 13: Saved model with acc 55.93%\n",
      "💾 Trial 13: Saved model with acc 58.26%\n",
      "💾 Trial 13: Saved model with acc 59.04%\n",
      "💾 Trial 13: Saved model with acc 59.77%\n",
      "💾 Trial 13: Saved model with acc 59.88%\n",
      "💾 Trial 13: Saved model with acc 61.49%\n",
      "💾 Trial 13: Saved model with acc 62.37%\n",
      "💾 Trial 13: Saved model with acc 62.42%\n",
      "💾 Trial 13: Saved model with acc 62.93%\n",
      "💾 Trial 13: Saved model with acc 63.60%\n",
      "💾 Trial 13: Saved model with acc 63.89%\n"
     ]
    },
    {
     "name": "stderr",
     "output_type": "stream",
     "text": [
      "[I 2025-07-02 05:37:08,163] Trial 13 finished with value: 63.892857142857146 and parameters: {'lr': 0.00019750132610939903, 'weight_decay': 0.00013763619811207824}. Best is trial 7 with value: 64.57142857142857.\n"
     ]
    },
    {
     "data": {
      "application/vnd.jupyter.widget-view+json": {
       "model_id": "3ae6683e57544a74ad0297e488c782fe",
       "version_major": 2,
       "version_minor": 0
      },
      "text/plain": [
       "Trial 14:   0%|          | 0/20 [00:00<?, ?it/s]"
      ]
     },
     "metadata": {},
     "output_type": "display_data"
    },
    {
     "name": "stdout",
     "output_type": "stream",
     "text": [
      "💾 Trial 14: Saved model with acc 48.85%\n",
      "💾 Trial 14: Saved model with acc 54.26%\n",
      "💾 Trial 14: Saved model with acc 56.67%\n",
      "💾 Trial 14: Saved model with acc 56.69%\n",
      "💾 Trial 14: Saved model with acc 58.20%\n",
      "💾 Trial 14: Saved model with acc 59.67%\n",
      "💾 Trial 14: Saved model with acc 59.76%\n",
      "💾 Trial 14: Saved model with acc 61.11%\n",
      "💾 Trial 14: Saved model with acc 61.55%\n",
      "💾 Trial 14: Saved model with acc 61.71%\n",
      "💾 Trial 14: Saved model with acc 62.56%\n",
      "💾 Trial 14: Saved model with acc 63.05%\n",
      "💾 Trial 14: Saved model with acc 63.75%\n"
     ]
    },
    {
     "name": "stderr",
     "output_type": "stream",
     "text": [
      "[I 2025-07-02 05:54:05,400] Trial 14 finished with value: 63.833333333333336 and parameters: {'lr': 6.963955358632617e-05, 'weight_decay': 8.615324297896381e-06}. Best is trial 7 with value: 64.57142857142857.\n"
     ]
    },
    {
     "name": "stdout",
     "output_type": "stream",
     "text": [
      "💾 Trial 14: Saved model with acc 63.83%\n"
     ]
    },
    {
     "data": {
      "application/vnd.jupyter.widget-view+json": {
       "model_id": "08bff0fef8d746ab87ddbaf6a39628bd",
       "version_major": 2,
       "version_minor": 0
      },
      "text/plain": [
       "Trial 15:   0%|          | 0/20 [00:00<?, ?it/s]"
      ]
     },
     "metadata": {},
     "output_type": "display_data"
    },
    {
     "name": "stdout",
     "output_type": "stream",
     "text": [
      "💾 Trial 15: Saved model with acc 50.70%\n",
      "💾 Trial 15: Saved model with acc 51.21%\n",
      "💾 Trial 15: Saved model with acc 55.21%\n",
      "💾 Trial 15: Saved model with acc 55.68%\n",
      "💾 Trial 15: Saved model with acc 60.06%\n",
      "💾 Trial 15: Saved model with acc 60.11%\n",
      "💾 Trial 15: Saved model with acc 60.26%\n",
      "💾 Trial 15: Saved model with acc 61.23%\n",
      "💾 Trial 15: Saved model with acc 62.90%\n",
      "💾 Trial 15: Saved model with acc 63.82%\n"
     ]
    },
    {
     "name": "stderr",
     "output_type": "stream",
     "text": [
      "[I 2025-07-02 06:11:17,762] Trial 15 finished with value: 63.82142857142857 and parameters: {'lr': 0.00026329490253297074, 'weight_decay': 9.750015455552114e-05}. Best is trial 7 with value: 64.57142857142857.\n"
     ]
    },
    {
     "data": {
      "application/vnd.jupyter.widget-view+json": {
       "model_id": "4384af0f347c4478aa4b2447416c4695",
       "version_major": 2,
       "version_minor": 0
      },
      "text/plain": [
       "Trial 16:   0%|          | 0/20 [00:00<?, ?it/s]"
      ]
     },
     "metadata": {},
     "output_type": "display_data"
    },
    {
     "name": "stdout",
     "output_type": "stream",
     "text": [
      "💾 Trial 16: Saved model with acc 44.98%\n",
      "💾 Trial 16: Saved model with acc 49.71%\n",
      "💾 Trial 16: Saved model with acc 52.92%\n",
      "💾 Trial 16: Saved model with acc 54.71%\n",
      "💾 Trial 16: Saved model with acc 56.98%\n",
      "💾 Trial 16: Saved model with acc 57.48%\n",
      "💾 Trial 16: Saved model with acc 58.07%\n",
      "💾 Trial 16: Saved model with acc 59.15%\n",
      "💾 Trial 16: Saved model with acc 60.36%\n",
      "💾 Trial 16: Saved model with acc 60.56%\n",
      "💾 Trial 16: Saved model with acc 61.58%\n",
      "💾 Trial 16: Saved model with acc 61.87%\n",
      "💾 Trial 16: Saved model with acc 62.18%\n",
      "💾 Trial 16: Saved model with acc 62.83%\n"
     ]
    },
    {
     "name": "stderr",
     "output_type": "stream",
     "text": [
      "[I 2025-07-02 06:28:35,169] Trial 16 finished with value: 63.07142857142857 and parameters: {'lr': 3.518000827001741e-05, 'weight_decay': 0.0003491010436714687}. Best is trial 7 with value: 64.57142857142857.\n"
     ]
    },
    {
     "name": "stdout",
     "output_type": "stream",
     "text": [
      "💾 Trial 16: Saved model with acc 63.07%\n"
     ]
    },
    {
     "data": {
      "application/vnd.jupyter.widget-view+json": {
       "model_id": "cf55abdb20184627a6374d417fa7bd51",
       "version_major": 2,
       "version_minor": 0
      },
      "text/plain": [
       "Trial 17:   0%|          | 0/20 [00:00<?, ?it/s]"
      ]
     },
     "metadata": {},
     "output_type": "display_data"
    },
    {
     "name": "stdout",
     "output_type": "stream",
     "text": [
      "💾 Trial 17: Saved model with acc 51.74%\n",
      "💾 Trial 17: Saved model with acc 55.35%\n",
      "💾 Trial 17: Saved model with acc 57.13%\n",
      "💾 Trial 17: Saved model with acc 57.55%\n",
      "💾 Trial 17: Saved model with acc 58.75%\n",
      "💾 Trial 17: Saved model with acc 61.43%\n",
      "💾 Trial 17: Saved model with acc 61.60%\n",
      "💾 Trial 17: Saved model with acc 62.32%\n",
      "💾 Trial 17: Saved model with acc 62.60%\n",
      "💾 Trial 17: Saved model with acc 63.29%\n"
     ]
    },
    {
     "name": "stderr",
     "output_type": "stream",
     "text": [
      "[I 2025-07-02 06:45:52,763] Trial 17 finished with value: 64.11904761904762 and parameters: {'lr': 0.00010372270113992571, 'weight_decay': 7.690504700726907e-05}. Best is trial 7 with value: 64.57142857142857.\n"
     ]
    },
    {
     "name": "stdout",
     "output_type": "stream",
     "text": [
      "💾 Trial 17: Saved model with acc 64.12%\n"
     ]
    },
    {
     "data": {
      "application/vnd.jupyter.widget-view+json": {
       "model_id": "c0862d048c28464ba6a1c01cd10488c3",
       "version_major": 2,
       "version_minor": 0
      },
      "text/plain": [
       "Trial 18:   0%|          | 0/20 [00:00<?, ?it/s]"
      ]
     },
     "metadata": {},
     "output_type": "display_data"
    },
    {
     "name": "stdout",
     "output_type": "stream",
     "text": [
      "💾 Trial 18: Saved model with acc 51.52%\n",
      "💾 Trial 18: Saved model with acc 55.27%\n",
      "💾 Trial 18: Saved model with acc 55.44%\n",
      "💾 Trial 18: Saved model with acc 56.68%\n",
      "💾 Trial 18: Saved model with acc 58.71%\n",
      "💾 Trial 18: Saved model with acc 61.81%\n",
      "💾 Trial 18: Saved model with acc 62.63%\n",
      "💾 Trial 18: Saved model with acc 62.75%\n"
     ]
    },
    {
     "name": "stderr",
     "output_type": "stream",
     "text": [
      "[I 2025-07-02 07:03:03,270] Trial 18 finished with value: 63.19047619047619 and parameters: {'lr': 0.00035388956534501996, 'weight_decay': 1.1605903672670885e-05}. Best is trial 7 with value: 64.57142857142857.\n"
     ]
    },
    {
     "name": "stdout",
     "output_type": "stream",
     "text": [
      "💾 Trial 18: Saved model with acc 63.19%\n"
     ]
    },
    {
     "data": {
      "application/vnd.jupyter.widget-view+json": {
       "model_id": "2b306ce014884940abe1f9b562f9d972",
       "version_major": 2,
       "version_minor": 0
      },
      "text/plain": [
       "Trial 19:   0%|          | 0/20 [00:00<?, ?it/s]"
      ]
     },
     "metadata": {},
     "output_type": "display_data"
    },
    {
     "name": "stdout",
     "output_type": "stream",
     "text": [
      "💾 Trial 19: Saved model with acc 47.65%\n",
      "💾 Trial 19: Saved model with acc 51.60%\n",
      "💾 Trial 19: Saved model with acc 53.12%\n",
      "💾 Trial 19: Saved model with acc 55.27%\n",
      "💾 Trial 19: Saved model with acc 57.30%\n",
      "💾 Trial 19: Saved model with acc 57.62%\n",
      "💾 Trial 19: Saved model with acc 59.25%\n",
      "💾 Trial 19: Saved model with acc 59.81%\n",
      "💾 Trial 19: Saved model with acc 60.81%\n",
      "💾 Trial 19: Saved model with acc 61.29%\n",
      "💾 Trial 19: Saved model with acc 61.33%\n",
      "💾 Trial 19: Saved model with acc 61.90%\n",
      "💾 Trial 19: Saved model with acc 62.38%\n",
      "💾 Trial 19: Saved model with acc 63.55%\n",
      "💾 Trial 19: Saved model with acc 63.58%\n"
     ]
    },
    {
     "name": "stderr",
     "output_type": "stream",
     "text": [
      "[I 2025-07-02 07:20:09,333] Trial 19 finished with value: 64.04761904761905 and parameters: {'lr': 4.644429732238098e-05, 'weight_decay': 3.6710799065681406e-06}. Best is trial 7 with value: 64.57142857142857.\n"
     ]
    },
    {
     "name": "stdout",
     "output_type": "stream",
     "text": [
      "💾 Trial 19: Saved model with acc 64.05%\n"
     ]
    },
    {
     "data": {
      "application/vnd.jupyter.widget-view+json": {
       "model_id": "c027250a29ca4630b65e9e0c49beeb36",
       "version_major": 2,
       "version_minor": 0
      },
      "text/plain": [
       "Trial 20:   0%|          | 0/20 [00:00<?, ?it/s]"
      ]
     },
     "metadata": {},
     "output_type": "display_data"
    },
    {
     "name": "stdout",
     "output_type": "stream",
     "text": [
      "💾 Trial 20: Saved model with acc 50.79%\n",
      "💾 Trial 20: Saved model with acc 56.13%\n",
      "💾 Trial 20: Saved model with acc 57.23%\n",
      "💾 Trial 20: Saved model with acc 58.42%\n",
      "💾 Trial 20: Saved model with acc 58.49%\n",
      "💾 Trial 20: Saved model with acc 59.10%\n",
      "💾 Trial 20: Saved model with acc 60.13%\n",
      "💾 Trial 20: Saved model with acc 60.19%\n",
      "💾 Trial 20: Saved model with acc 61.86%\n",
      "💾 Trial 20: Saved model with acc 62.68%\n",
      "💾 Trial 20: Saved model with acc 63.44%\n"
     ]
    },
    {
     "name": "stderr",
     "output_type": "stream",
     "text": [
      "[I 2025-07-02 07:37:13,812] Trial 20 finished with value: 63.44047619047619 and parameters: {'lr': 0.00019108652843262007, 'weight_decay': 0.00037509687201567007}. Best is trial 7 with value: 64.57142857142857.\n"
     ]
    },
    {
     "data": {
      "application/vnd.jupyter.widget-view+json": {
       "model_id": "b6b2805d3d494018abe8e8542f9989a5",
       "version_major": 2,
       "version_minor": 0
      },
      "text/plain": [
       "Trial 21:   0%|          | 0/20 [00:00<?, ?it/s]"
      ]
     },
     "metadata": {},
     "output_type": "display_data"
    },
    {
     "name": "stdout",
     "output_type": "stream",
     "text": [
      "💾 Trial 21: Saved model with acc 45.12%\n",
      "💾 Trial 21: Saved model with acc 47.94%\n",
      "💾 Trial 21: Saved model with acc 50.02%\n",
      "💾 Trial 21: Saved model with acc 50.35%\n",
      "💾 Trial 21: Saved model with acc 51.19%\n",
      "💾 Trial 21: Saved model with acc 51.40%\n",
      "💾 Trial 21: Saved model with acc 56.55%\n",
      "💾 Trial 21: Saved model with acc 56.96%\n",
      "💾 Trial 21: Saved model with acc 57.92%\n",
      "💾 Trial 21: Saved model with acc 58.13%\n",
      "💾 Trial 21: Saved model with acc 61.14%\n"
     ]
    },
    {
     "name": "stderr",
     "output_type": "stream",
     "text": [
      "[I 2025-07-02 07:54:22,729] Trial 21 finished with value: 61.142857142857146 and parameters: {'lr': 0.0009937039259393038, 'weight_decay': 1.0074473224351465e-06}. Best is trial 7 with value: 64.57142857142857.\n"
     ]
    },
    {
     "data": {
      "application/vnd.jupyter.widget-view+json": {
       "model_id": "df698e84b83949e785371cded46af10e",
       "version_major": 2,
       "version_minor": 0
      },
      "text/plain": [
       "Trial 22:   0%|          | 0/20 [00:00<?, ?it/s]"
      ]
     },
     "metadata": {},
     "output_type": "display_data"
    },
    {
     "name": "stdout",
     "output_type": "stream",
     "text": [
      "💾 Trial 22: Saved model with acc 52.12%\n",
      "💾 Trial 22: Saved model with acc 55.89%\n",
      "💾 Trial 22: Saved model with acc 58.17%\n",
      "💾 Trial 22: Saved model with acc 58.48%\n",
      "💾 Trial 22: Saved model with acc 60.46%\n",
      "💾 Trial 22: Saved model with acc 62.18%\n",
      "💾 Trial 22: Saved model with acc 62.38%\n",
      "💾 Trial 22: Saved model with acc 62.76%\n",
      "💾 Trial 22: Saved model with acc 63.63%\n"
     ]
    },
    {
     "name": "stderr",
     "output_type": "stream",
     "text": [
      "[I 2025-07-02 08:11:34,091] Trial 22 finished with value: 63.79761904761905 and parameters: {'lr': 0.0002755515781249024, 'weight_decay': 2.446413747053654e-06}. Best is trial 7 with value: 64.57142857142857.\n"
     ]
    },
    {
     "name": "stdout",
     "output_type": "stream",
     "text": [
      "💾 Trial 22: Saved model with acc 63.80%\n"
     ]
    },
    {
     "data": {
      "application/vnd.jupyter.widget-view+json": {
       "model_id": "12f4a56a312d4a7c8b6c84362c8cc35d",
       "version_major": 2,
       "version_minor": 0
      },
      "text/plain": [
       "Trial 23:   0%|          | 0/20 [00:00<?, ?it/s]"
      ]
     },
     "metadata": {},
     "output_type": "display_data"
    },
    {
     "name": "stdout",
     "output_type": "stream",
     "text": [
      "💾 Trial 23: Saved model with acc 51.01%\n",
      "💾 Trial 23: Saved model with acc 53.11%\n",
      "💾 Trial 23: Saved model with acc 56.63%\n",
      "💾 Trial 23: Saved model with acc 58.29%\n",
      "💾 Trial 23: Saved model with acc 58.44%\n",
      "💾 Trial 23: Saved model with acc 61.26%\n",
      "💾 Trial 23: Saved model with acc 61.62%\n",
      "💾 Trial 23: Saved model with acc 62.52%\n",
      "💾 Trial 23: Saved model with acc 63.08%\n",
      "💾 Trial 23: Saved model with acc 63.19%\n",
      "💾 Trial 23: Saved model with acc 64.00%\n"
     ]
    },
    {
     "name": "stderr",
     "output_type": "stream",
     "text": [
      "[I 2025-07-02 08:28:40,499] Trial 23 finished with value: 64.0 and parameters: {'lr': 0.0001193617491866273, 'weight_decay': 4.27850980475938e-06}. Best is trial 7 with value: 64.57142857142857.\n"
     ]
    },
    {
     "data": {
      "application/vnd.jupyter.widget-view+json": {
       "model_id": "f85444a9596341ffade8e9504403da90",
       "version_major": 2,
       "version_minor": 0
      },
      "text/plain": [
       "Trial 24:   0%|          | 0/20 [00:00<?, ?it/s]"
      ]
     },
     "metadata": {},
     "output_type": "display_data"
    },
    {
     "name": "stdout",
     "output_type": "stream",
     "text": [
      "💾 Trial 24: Saved model with acc 50.77%\n",
      "💾 Trial 24: Saved model with acc 53.83%\n",
      "💾 Trial 24: Saved model with acc 57.21%\n",
      "💾 Trial 24: Saved model with acc 58.29%\n",
      "💾 Trial 24: Saved model with acc 60.23%\n",
      "💾 Trial 24: Saved model with acc 60.57%\n",
      "💾 Trial 24: Saved model with acc 61.36%\n",
      "💾 Trial 24: Saved model with acc 62.69%\n"
     ]
    },
    {
     "name": "stderr",
     "output_type": "stream",
     "text": [
      "[I 2025-07-02 08:46:15,612] Trial 24 finished with value: 64.3452380952381 and parameters: {'lr': 0.0001583205175611667, 'weight_decay': 1.6045979414742047e-05}. Best is trial 7 with value: 64.57142857142857.\n"
     ]
    },
    {
     "name": "stdout",
     "output_type": "stream",
     "text": [
      "💾 Trial 24: Saved model with acc 64.35%\n"
     ]
    },
    {
     "data": {
      "application/vnd.jupyter.widget-view+json": {
       "model_id": "b62e86e75b8e461ba7e614165f64dd1e",
       "version_major": 2,
       "version_minor": 0
      },
      "text/plain": [
       "Trial 25:   0%|          | 0/20 [00:00<?, ?it/s]"
      ]
     },
     "metadata": {},
     "output_type": "display_data"
    },
    {
     "name": "stdout",
     "output_type": "stream",
     "text": [
      "💾 Trial 25: Saved model with acc 51.21%\n",
      "💾 Trial 25: Saved model with acc 54.71%\n",
      "💾 Trial 25: Saved model with acc 56.88%\n",
      "💾 Trial 25: Saved model with acc 58.86%\n",
      "💾 Trial 25: Saved model with acc 61.64%\n",
      "💾 Trial 25: Saved model with acc 61.93%\n",
      "💾 Trial 25: Saved model with acc 62.25%\n",
      "💾 Trial 25: Saved model with acc 62.85%\n",
      "💾 Trial 25: Saved model with acc 62.94%\n",
      "💾 Trial 25: Saved model with acc 63.83%\n"
     ]
    },
    {
     "name": "stderr",
     "output_type": "stream",
     "text": [
      "[I 2025-07-02 09:03:32,111] Trial 25 finished with value: 64.04761904761905 and parameters: {'lr': 0.0001588563844600074, 'weight_decay': 1.70726015720646e-05}. Best is trial 7 with value: 64.57142857142857.\n"
     ]
    },
    {
     "name": "stdout",
     "output_type": "stream",
     "text": [
      "💾 Trial 25: Saved model with acc 64.05%\n"
     ]
    },
    {
     "data": {
      "application/vnd.jupyter.widget-view+json": {
       "model_id": "4aa54009eb57453bace5dc9a86fbd7c0",
       "version_major": 2,
       "version_minor": 0
      },
      "text/plain": [
       "Trial 26:   0%|          | 0/20 [00:00<?, ?it/s]"
      ]
     },
     "metadata": {},
     "output_type": "display_data"
    },
    {
     "name": "stdout",
     "output_type": "stream",
     "text": [
      "💾 Trial 26: Saved model with acc 49.08%\n",
      "💾 Trial 26: Saved model with acc 54.61%\n",
      "💾 Trial 26: Saved model with acc 56.45%\n",
      "💾 Trial 26: Saved model with acc 57.81%\n",
      "💾 Trial 26: Saved model with acc 58.56%\n",
      "💾 Trial 26: Saved model with acc 59.45%\n",
      "💾 Trial 26: Saved model with acc 59.83%\n",
      "💾 Trial 26: Saved model with acc 60.20%\n",
      "💾 Trial 26: Saved model with acc 62.38%\n",
      "💾 Trial 26: Saved model with acc 62.57%\n",
      "💾 Trial 26: Saved model with acc 63.36%\n",
      "💾 Trial 26: Saved model with acc 63.39%\n"
     ]
    },
    {
     "name": "stderr",
     "output_type": "stream",
     "text": [
      "[I 2025-07-02 09:20:46,992] Trial 26 finished with value: 63.61904761904762 and parameters: {'lr': 8.409233162116046e-05, 'weight_decay': 5.8207643007896664e-05}. Best is trial 7 with value: 64.57142857142857.\n"
     ]
    },
    {
     "name": "stdout",
     "output_type": "stream",
     "text": [
      "💾 Trial 26: Saved model with acc 63.62%\n"
     ]
    },
    {
     "data": {
      "application/vnd.jupyter.widget-view+json": {
       "model_id": "b8929c472a8644478d83d148ba4bb2ca",
       "version_major": 2,
       "version_minor": 0
      },
      "text/plain": [
       "Trial 27:   0%|          | 0/20 [00:00<?, ?it/s]"
      ]
     },
     "metadata": {},
     "output_type": "display_data"
    },
    {
     "name": "stdout",
     "output_type": "stream",
     "text": [
      "💾 Trial 27: Saved model with acc 52.14%\n",
      "💾 Trial 27: Saved model with acc 53.23%\n",
      "💾 Trial 27: Saved model with acc 54.81%\n",
      "💾 Trial 27: Saved model with acc 57.80%\n",
      "💾 Trial 27: Saved model with acc 58.23%\n",
      "💾 Trial 27: Saved model with acc 60.42%\n",
      "💾 Trial 27: Saved model with acc 62.31%\n",
      "💾 Trial 27: Saved model with acc 62.87%\n",
      "💾 Trial 27: Saved model with acc 62.98%\n",
      "💾 Trial 27: Saved model with acc 63.12%\n",
      "💾 Trial 27: Saved model with acc 63.64%\n"
     ]
    },
    {
     "name": "stderr",
     "output_type": "stream",
     "text": [
      "[I 2025-07-02 09:37:37,152] Trial 27 finished with value: 63.642857142857146 and parameters: {'lr': 0.00013889300692540514, 'weight_decay': 2.4266938618780096e-05}. Best is trial 7 with value: 64.57142857142857.\n"
     ]
    },
    {
     "data": {
      "application/vnd.jupyter.widget-view+json": {
       "model_id": "7a2fe74ec5a34bbea16c8c5797b8da47",
       "version_major": 2,
       "version_minor": 0
      },
      "text/plain": [
       "Trial 28:   0%|          | 0/20 [00:00<?, ?it/s]"
      ]
     },
     "metadata": {},
     "output_type": "display_data"
    },
    {
     "name": "stdout",
     "output_type": "stream",
     "text": [
      "💾 Trial 28: Saved model with acc 45.64%\n",
      "💾 Trial 28: Saved model with acc 51.68%\n",
      "💾 Trial 28: Saved model with acc 55.02%\n",
      "💾 Trial 28: Saved model with acc 55.88%\n",
      "💾 Trial 28: Saved model with acc 58.21%\n",
      "💾 Trial 28: Saved model with acc 58.62%\n",
      "💾 Trial 28: Saved model with acc 59.04%\n",
      "💾 Trial 28: Saved model with acc 60.10%\n",
      "💾 Trial 28: Saved model with acc 60.77%\n",
      "💾 Trial 28: Saved model with acc 61.58%\n",
      "💾 Trial 28: Saved model with acc 62.56%\n",
      "💾 Trial 28: Saved model with acc 63.80%\n"
     ]
    },
    {
     "name": "stderr",
     "output_type": "stream",
     "text": [
      "[I 2025-07-02 09:54:34,868] Trial 28 finished with value: 63.79761904761905 and parameters: {'lr': 4.670431807795256e-05, 'weight_decay': 7.293055518181136e-06}. Best is trial 7 with value: 64.57142857142857.\n"
     ]
    },
    {
     "data": {
      "application/vnd.jupyter.widget-view+json": {
       "model_id": "0204b19ab97945669907160d3eb168ed",
       "version_major": 2,
       "version_minor": 0
      },
      "text/plain": [
       "Trial 29:   0%|          | 0/20 [00:00<?, ?it/s]"
      ]
     },
     "metadata": {},
     "output_type": "display_data"
    },
    {
     "name": "stdout",
     "output_type": "stream",
     "text": [
      "💾 Trial 29: Saved model with acc 49.54%\n",
      "💾 Trial 29: Saved model with acc 50.93%\n",
      "💾 Trial 29: Saved model with acc 58.39%\n",
      "💾 Trial 29: Saved model with acc 60.29%\n",
      "💾 Trial 29: Saved model with acc 60.44%\n",
      "💾 Trial 29: Saved model with acc 61.71%\n",
      "💾 Trial 29: Saved model with acc 62.32%\n",
      "💾 Trial 29: Saved model with acc 62.98%\n",
      "💾 Trial 29: Saved model with acc 63.01%\n"
     ]
    },
    {
     "name": "stderr",
     "output_type": "stream",
     "text": [
      "[I 2025-07-02 10:11:18,061] Trial 29 finished with value: 63.01190476190476 and parameters: {'lr': 0.0002240851862405931, 'weight_decay': 2.5982886829592898e-05}. Best is trial 7 with value: 64.57142857142857.\n"
     ]
    },
    {
     "name": "stdout",
     "output_type": "stream",
     "text": [
      "🎯 Best hyperparameters: {'lr': 8.970677769864372e-05, 'weight_decay': 3.162877801888854e-05}\n",
      "🎯 Best validation accuracy: 64.57142857142857\n"
     ]
    }
   ],
   "source": [
    "n_trials = 30\n",
    "study = optuna.create_study(direction='maximize')\n",
    "pbar = tqdm(range(n_trials), desc=\"Optuna Trials\")\n",
    "\n",
    "for _ in pbar:\n",
    "    study.optimize(objective, n_trials=1, catch=(Exception,))\n",
    "    pbar.set_postfix_str(f\"Best Acc: {study.best_value:.2f}%\")\n",
    "\n",
    "print(\"🎯 Best hyperparameters:\", study.best_params)\n",
    "print(\"🎯 Best validation accuracy:\", study.best_value)"
   ]
  },
  {
   "cell_type": "code",
   "execution_count": 8,
   "id": "625f5ecc",
   "metadata": {},
   "outputs": [
    {
     "name": "stdout",
     "output_type": "stream",
     "text": [
      "\n",
      "🔁 Epoch 1/50\n",
      "Epoch 1/50 | Train Loss: 1.0083 | Val Loss: 1.2771 | Val Acc: 62.65% | ⏱ Time: 0m 53s\n",
      "\n",
      "🔁 Epoch 2/50\n",
      "Epoch 2/50 | Train Loss: 0.9933 | Val Loss: 1.3020 | Val Acc: 62.67% | ⏱ Time: 0m 55s\n",
      "\n",
      "🔁 Epoch 3/50\n",
      "Epoch 3/50 | Train Loss: 0.9713 | Val Loss: 1.2569 | Val Acc: 64.51% | ⏱ Time: 0m 55s\n",
      "💾 Saved new best model based on accuracy.\n",
      "\n",
      "🔁 Epoch 4/50\n",
      "Epoch 4/50 | Train Loss: 0.9625 | Val Loss: 1.3038 | Val Acc: 62.11% | ⏱ Time: 0m 55s\n",
      "\n",
      "🔁 Epoch 5/50\n",
      "Epoch 5/50 | Train Loss: 0.9383 | Val Loss: 1.2570 | Val Acc: 64.49% | ⏱ Time: 0m 56s\n",
      "\n",
      "🔁 Epoch 6/50\n",
      "Epoch 6/50 | Train Loss: 0.9161 | Val Loss: 1.2943 | Val Acc: 63.37% | ⏱ Time: 0m 56s\n",
      "\n",
      "🔁 Epoch 7/50\n",
      "Epoch 7/50 | Train Loss: 0.9085 | Val Loss: 1.2817 | Val Acc: 63.93% | ⏱ Time: 0m 56s\n",
      "\n",
      "🔁 Epoch 8/50\n",
      "Epoch 8/50 | Train Loss: 0.8889 | Val Loss: 1.3062 | Val Acc: 63.31% | ⏱ Time: 0m 57s\n",
      "\n",
      "🔁 Epoch 9/50\n",
      "Epoch 9/50 | Train Loss: 0.8764 | Val Loss: 1.3002 | Val Acc: 63.67% | ⏱ Time: 0m 58s\n",
      "\n",
      "🔁 Epoch 10/50\n",
      "Epoch 10/50 | Train Loss: 0.8526 | Val Loss: 1.3154 | Val Acc: 63.42% | ⏱ Time: 0m 58s\n",
      "\n",
      "🔁 Epoch 11/50\n",
      "Epoch 11/50 | Train Loss: 0.8383 | Val Loss: 1.3055 | Val Acc: 64.51% | ⏱ Time: 0m 56s\n",
      "\n",
      "🔁 Epoch 12/50\n",
      "Epoch 12/50 | Train Loss: 0.8257 | Val Loss: 1.3118 | Val Acc: 64.79% | ⏱ Time: 0m 51s\n",
      "💾 Saved new best model based on accuracy.\n",
      "\n",
      "🔁 Epoch 13/50\n",
      "Epoch 13/50 | Train Loss: 0.8107 | Val Loss: 1.3813 | Val Acc: 62.30% | ⏱ Time: 0m 51s\n",
      "\n",
      "🔁 Epoch 14/50\n",
      "  🟩 Batch 300/657 (45.7%) - Avg Loss: 0.7936\r"
     ]
    },
    {
     "ename": "KeyboardInterrupt",
     "evalue": "",
     "output_type": "error",
     "traceback": [
      "\u001b[1;31m---------------------------------------------------------------------------\u001b[0m",
      "\u001b[1;31mKeyboardInterrupt\u001b[0m                         Traceback (most recent call last)",
      "Cell \u001b[1;32mIn[8], line 18\u001b[0m\n\u001b[0;32m     15\u001b[0m     loss \u001b[38;5;241m=\u001b[39m criterion(outputs, labels)\n\u001b[0;32m     17\u001b[0m scaler\u001b[38;5;241m.\u001b[39mscale(loss)\u001b[38;5;241m.\u001b[39mbackward()\n\u001b[1;32m---> 18\u001b[0m \u001b[43mscaler\u001b[49m\u001b[38;5;241;43m.\u001b[39;49m\u001b[43mstep\u001b[49m\u001b[43m(\u001b[49m\u001b[43moptimizer\u001b[49m\u001b[43m)\u001b[49m\n\u001b[0;32m     19\u001b[0m scaler\u001b[38;5;241m.\u001b[39mupdate()\n\u001b[0;32m     21\u001b[0m total_loss \u001b[38;5;241m+\u001b[39m\u001b[38;5;241m=\u001b[39m loss\u001b[38;5;241m.\u001b[39mitem()\n",
      "File \u001b[1;32m~\\AppData\\Roaming\\Python\\Python39\\site-packages\\torch\\amp\\grad_scaler.py:457\u001b[0m, in \u001b[0;36mGradScaler.step\u001b[1;34m(self, optimizer, *args, **kwargs)\u001b[0m\n\u001b[0;32m    451\u001b[0m     \u001b[38;5;28mself\u001b[39m\u001b[38;5;241m.\u001b[39munscale_(optimizer)\n\u001b[0;32m    453\u001b[0m \u001b[38;5;28;01massert\u001b[39;00m (\n\u001b[0;32m    454\u001b[0m     \u001b[38;5;28mlen\u001b[39m(optimizer_state[\u001b[38;5;124m\"\u001b[39m\u001b[38;5;124mfound_inf_per_device\u001b[39m\u001b[38;5;124m\"\u001b[39m]) \u001b[38;5;241m>\u001b[39m \u001b[38;5;241m0\u001b[39m\n\u001b[0;32m    455\u001b[0m ), \u001b[38;5;124m\"\u001b[39m\u001b[38;5;124mNo inf checks were recorded for this optimizer.\u001b[39m\u001b[38;5;124m\"\u001b[39m\n\u001b[1;32m--> 457\u001b[0m retval \u001b[38;5;241m=\u001b[39m \u001b[38;5;28mself\u001b[39m\u001b[38;5;241m.\u001b[39m_maybe_opt_step(optimizer, optimizer_state, \u001b[38;5;241m*\u001b[39margs, \u001b[38;5;241m*\u001b[39m\u001b[38;5;241m*\u001b[39mkwargs)\n\u001b[0;32m    459\u001b[0m optimizer_state[\u001b[38;5;124m\"\u001b[39m\u001b[38;5;124mstage\u001b[39m\u001b[38;5;124m\"\u001b[39m] \u001b[38;5;241m=\u001b[39m OptState\u001b[38;5;241m.\u001b[39mSTEPPED\n\u001b[0;32m    461\u001b[0m \u001b[38;5;28;01mreturn\u001b[39;00m retval\n",
      "File \u001b[1;32m~\\AppData\\Roaming\\Python\\Python39\\site-packages\\torch\\amp\\grad_scaler.py:352\u001b[0m, in \u001b[0;36mGradScaler._maybe_opt_step\u001b[1;34m(self, optimizer, optimizer_state, *args, **kwargs)\u001b[0m\n\u001b[0;32m    350\u001b[0m retval: Optional[\u001b[38;5;28mfloat\u001b[39m] \u001b[38;5;241m=\u001b[39m \u001b[38;5;28;01mNone\u001b[39;00m\n\u001b[0;32m    351\u001b[0m \u001b[38;5;28;01mif\u001b[39;00m \u001b[38;5;129;01mnot\u001b[39;00m \u001b[38;5;28msum\u001b[39m(v\u001b[38;5;241m.\u001b[39mitem() \u001b[38;5;28;01mfor\u001b[39;00m v \u001b[38;5;129;01min\u001b[39;00m optimizer_state[\u001b[38;5;124m\"\u001b[39m\u001b[38;5;124mfound_inf_per_device\u001b[39m\u001b[38;5;124m\"\u001b[39m]\u001b[38;5;241m.\u001b[39mvalues()):\n\u001b[1;32m--> 352\u001b[0m     retval \u001b[38;5;241m=\u001b[39m optimizer\u001b[38;5;241m.\u001b[39mstep(\u001b[38;5;241m*\u001b[39margs, \u001b[38;5;241m*\u001b[39m\u001b[38;5;241m*\u001b[39mkwargs)\n\u001b[0;32m    353\u001b[0m \u001b[38;5;28;01mreturn\u001b[39;00m retval\n",
      "File \u001b[1;32m~\\AppData\\Roaming\\Python\\Python39\\site-packages\\torch\\optim\\lr_scheduler.py:137\u001b[0m, in \u001b[0;36mLRScheduler.__init__.<locals>.patch_track_step_called.<locals>.wrap_step.<locals>.wrapper\u001b[1;34m(*args, **kwargs)\u001b[0m\n\u001b[0;32m    135\u001b[0m opt \u001b[38;5;241m=\u001b[39m opt_ref()\n\u001b[0;32m    136\u001b[0m opt\u001b[38;5;241m.\u001b[39m_opt_called \u001b[38;5;241m=\u001b[39m \u001b[38;5;28;01mTrue\u001b[39;00m  \u001b[38;5;66;03m# type: ignore[union-attr]\u001b[39;00m\n\u001b[1;32m--> 137\u001b[0m \u001b[38;5;28;01mreturn\u001b[39;00m func\u001b[38;5;241m.\u001b[39m\u001b[38;5;21m__get__\u001b[39m(opt, opt\u001b[38;5;241m.\u001b[39m\u001b[38;5;18m__class__\u001b[39m)(\u001b[38;5;241m*\u001b[39margs, \u001b[38;5;241m*\u001b[39m\u001b[38;5;241m*\u001b[39mkwargs)\n",
      "File \u001b[1;32m~\\AppData\\Roaming\\Python\\Python39\\site-packages\\torch\\optim\\optimizer.py:487\u001b[0m, in \u001b[0;36mOptimizer.profile_hook_step.<locals>.wrapper\u001b[1;34m(*args, **kwargs)\u001b[0m\n\u001b[0;32m    482\u001b[0m         \u001b[38;5;28;01melse\u001b[39;00m:\n\u001b[0;32m    483\u001b[0m             \u001b[38;5;28;01mraise\u001b[39;00m \u001b[38;5;167;01mRuntimeError\u001b[39;00m(\n\u001b[0;32m    484\u001b[0m                 \u001b[38;5;124mf\u001b[39m\u001b[38;5;124m\"\u001b[39m\u001b[38;5;132;01m{\u001b[39;00mfunc\u001b[38;5;132;01m}\u001b[39;00m\u001b[38;5;124m must return None or a tuple of (new_args, new_kwargs), but got \u001b[39m\u001b[38;5;132;01m{\u001b[39;00mresult\u001b[38;5;132;01m}\u001b[39;00m\u001b[38;5;124m.\u001b[39m\u001b[38;5;124m\"\u001b[39m\n\u001b[0;32m    485\u001b[0m             )\n\u001b[1;32m--> 487\u001b[0m out \u001b[38;5;241m=\u001b[39m func(\u001b[38;5;241m*\u001b[39margs, \u001b[38;5;241m*\u001b[39m\u001b[38;5;241m*\u001b[39mkwargs)\n\u001b[0;32m    488\u001b[0m \u001b[38;5;28mself\u001b[39m\u001b[38;5;241m.\u001b[39m_optimizer_step_code()\n\u001b[0;32m    490\u001b[0m \u001b[38;5;66;03m# call optimizer step post hooks\u001b[39;00m\n",
      "File \u001b[1;32m~\\AppData\\Roaming\\Python\\Python39\\site-packages\\torch\\optim\\optimizer.py:91\u001b[0m, in \u001b[0;36m_use_grad_for_differentiable.<locals>._use_grad\u001b[1;34m(self, *args, **kwargs)\u001b[0m\n\u001b[0;32m     89\u001b[0m     torch\u001b[38;5;241m.\u001b[39mset_grad_enabled(\u001b[38;5;28mself\u001b[39m\u001b[38;5;241m.\u001b[39mdefaults[\u001b[38;5;124m\"\u001b[39m\u001b[38;5;124mdifferentiable\u001b[39m\u001b[38;5;124m\"\u001b[39m])\n\u001b[0;32m     90\u001b[0m     torch\u001b[38;5;241m.\u001b[39m_dynamo\u001b[38;5;241m.\u001b[39mgraph_break()\n\u001b[1;32m---> 91\u001b[0m     ret \u001b[38;5;241m=\u001b[39m func(\u001b[38;5;28mself\u001b[39m, \u001b[38;5;241m*\u001b[39margs, \u001b[38;5;241m*\u001b[39m\u001b[38;5;241m*\u001b[39mkwargs)\n\u001b[0;32m     92\u001b[0m \u001b[38;5;28;01mfinally\u001b[39;00m:\n\u001b[0;32m     93\u001b[0m     torch\u001b[38;5;241m.\u001b[39m_dynamo\u001b[38;5;241m.\u001b[39mgraph_break()\n",
      "File \u001b[1;32m~\\AppData\\Roaming\\Python\\Python39\\site-packages\\torch\\optim\\adamw.py:220\u001b[0m, in \u001b[0;36mAdamW.step\u001b[1;34m(self, closure)\u001b[0m\n\u001b[0;32m    207\u001b[0m     beta1, beta2 \u001b[38;5;241m=\u001b[39m cast(Tuple[\u001b[38;5;28mfloat\u001b[39m, \u001b[38;5;28mfloat\u001b[39m], group[\u001b[38;5;124m\"\u001b[39m\u001b[38;5;124mbetas\u001b[39m\u001b[38;5;124m\"\u001b[39m])\n\u001b[0;32m    209\u001b[0m     has_complex \u001b[38;5;241m=\u001b[39m \u001b[38;5;28mself\u001b[39m\u001b[38;5;241m.\u001b[39m_init_group(\n\u001b[0;32m    210\u001b[0m         group,\n\u001b[0;32m    211\u001b[0m         params_with_grad,\n\u001b[1;32m   (...)\u001b[0m\n\u001b[0;32m    217\u001b[0m         state_steps,\n\u001b[0;32m    218\u001b[0m     )\n\u001b[1;32m--> 220\u001b[0m     \u001b[43madamw\u001b[49m\u001b[43m(\u001b[49m\n\u001b[0;32m    221\u001b[0m \u001b[43m        \u001b[49m\u001b[43mparams_with_grad\u001b[49m\u001b[43m,\u001b[49m\n\u001b[0;32m    222\u001b[0m \u001b[43m        \u001b[49m\u001b[43mgrads\u001b[49m\u001b[43m,\u001b[49m\n\u001b[0;32m    223\u001b[0m \u001b[43m        \u001b[49m\u001b[43mexp_avgs\u001b[49m\u001b[43m,\u001b[49m\n\u001b[0;32m    224\u001b[0m \u001b[43m        \u001b[49m\u001b[43mexp_avg_sqs\u001b[49m\u001b[43m,\u001b[49m\n\u001b[0;32m    225\u001b[0m \u001b[43m        \u001b[49m\u001b[43mmax_exp_avg_sqs\u001b[49m\u001b[43m,\u001b[49m\n\u001b[0;32m    226\u001b[0m \u001b[43m        \u001b[49m\u001b[43mstate_steps\u001b[49m\u001b[43m,\u001b[49m\n\u001b[0;32m    227\u001b[0m \u001b[43m        \u001b[49m\u001b[43mamsgrad\u001b[49m\u001b[38;5;241;43m=\u001b[39;49m\u001b[43mamsgrad\u001b[49m\u001b[43m,\u001b[49m\n\u001b[0;32m    228\u001b[0m \u001b[43m        \u001b[49m\u001b[43mbeta1\u001b[49m\u001b[38;5;241;43m=\u001b[39;49m\u001b[43mbeta1\u001b[49m\u001b[43m,\u001b[49m\n\u001b[0;32m    229\u001b[0m \u001b[43m        \u001b[49m\u001b[43mbeta2\u001b[49m\u001b[38;5;241;43m=\u001b[39;49m\u001b[43mbeta2\u001b[49m\u001b[43m,\u001b[49m\n\u001b[0;32m    230\u001b[0m \u001b[43m        \u001b[49m\u001b[43mlr\u001b[49m\u001b[38;5;241;43m=\u001b[39;49m\u001b[43mgroup\u001b[49m\u001b[43m[\u001b[49m\u001b[38;5;124;43m\"\u001b[39;49m\u001b[38;5;124;43mlr\u001b[39;49m\u001b[38;5;124;43m\"\u001b[39;49m\u001b[43m]\u001b[49m\u001b[43m,\u001b[49m\n\u001b[0;32m    231\u001b[0m \u001b[43m        \u001b[49m\u001b[43mweight_decay\u001b[49m\u001b[38;5;241;43m=\u001b[39;49m\u001b[43mgroup\u001b[49m\u001b[43m[\u001b[49m\u001b[38;5;124;43m\"\u001b[39;49m\u001b[38;5;124;43mweight_decay\u001b[39;49m\u001b[38;5;124;43m\"\u001b[39;49m\u001b[43m]\u001b[49m\u001b[43m,\u001b[49m\n\u001b[0;32m    232\u001b[0m \u001b[43m        \u001b[49m\u001b[43meps\u001b[49m\u001b[38;5;241;43m=\u001b[39;49m\u001b[43mgroup\u001b[49m\u001b[43m[\u001b[49m\u001b[38;5;124;43m\"\u001b[39;49m\u001b[38;5;124;43meps\u001b[39;49m\u001b[38;5;124;43m\"\u001b[39;49m\u001b[43m]\u001b[49m\u001b[43m,\u001b[49m\n\u001b[0;32m    233\u001b[0m \u001b[43m        \u001b[49m\u001b[43mmaximize\u001b[49m\u001b[38;5;241;43m=\u001b[39;49m\u001b[43mgroup\u001b[49m\u001b[43m[\u001b[49m\u001b[38;5;124;43m\"\u001b[39;49m\u001b[38;5;124;43mmaximize\u001b[39;49m\u001b[38;5;124;43m\"\u001b[39;49m\u001b[43m]\u001b[49m\u001b[43m,\u001b[49m\n\u001b[0;32m    234\u001b[0m \u001b[43m        \u001b[49m\u001b[43mforeach\u001b[49m\u001b[38;5;241;43m=\u001b[39;49m\u001b[43mgroup\u001b[49m\u001b[43m[\u001b[49m\u001b[38;5;124;43m\"\u001b[39;49m\u001b[38;5;124;43mforeach\u001b[39;49m\u001b[38;5;124;43m\"\u001b[39;49m\u001b[43m]\u001b[49m\u001b[43m,\u001b[49m\n\u001b[0;32m    235\u001b[0m \u001b[43m        \u001b[49m\u001b[43mcapturable\u001b[49m\u001b[38;5;241;43m=\u001b[39;49m\u001b[43mgroup\u001b[49m\u001b[43m[\u001b[49m\u001b[38;5;124;43m\"\u001b[39;49m\u001b[38;5;124;43mcapturable\u001b[39;49m\u001b[38;5;124;43m\"\u001b[39;49m\u001b[43m]\u001b[49m\u001b[43m,\u001b[49m\n\u001b[0;32m    236\u001b[0m \u001b[43m        \u001b[49m\u001b[43mdifferentiable\u001b[49m\u001b[38;5;241;43m=\u001b[39;49m\u001b[43mgroup\u001b[49m\u001b[43m[\u001b[49m\u001b[38;5;124;43m\"\u001b[39;49m\u001b[38;5;124;43mdifferentiable\u001b[39;49m\u001b[38;5;124;43m\"\u001b[39;49m\u001b[43m]\u001b[49m\u001b[43m,\u001b[49m\n\u001b[0;32m    237\u001b[0m \u001b[43m        \u001b[49m\u001b[43mfused\u001b[49m\u001b[38;5;241;43m=\u001b[39;49m\u001b[43mgroup\u001b[49m\u001b[43m[\u001b[49m\u001b[38;5;124;43m\"\u001b[39;49m\u001b[38;5;124;43mfused\u001b[39;49m\u001b[38;5;124;43m\"\u001b[39;49m\u001b[43m]\u001b[49m\u001b[43m,\u001b[49m\n\u001b[0;32m    238\u001b[0m \u001b[43m        \u001b[49m\u001b[43mgrad_scale\u001b[49m\u001b[38;5;241;43m=\u001b[39;49m\u001b[38;5;28;43mgetattr\u001b[39;49m\u001b[43m(\u001b[49m\u001b[38;5;28;43mself\u001b[39;49m\u001b[43m,\u001b[49m\u001b[43m \u001b[49m\u001b[38;5;124;43m\"\u001b[39;49m\u001b[38;5;124;43mgrad_scale\u001b[39;49m\u001b[38;5;124;43m\"\u001b[39;49m\u001b[43m,\u001b[49m\u001b[43m \u001b[49m\u001b[38;5;28;43;01mNone\u001b[39;49;00m\u001b[43m)\u001b[49m\u001b[43m,\u001b[49m\n\u001b[0;32m    239\u001b[0m \u001b[43m        \u001b[49m\u001b[43mfound_inf\u001b[49m\u001b[38;5;241;43m=\u001b[39;49m\u001b[38;5;28;43mgetattr\u001b[39;49m\u001b[43m(\u001b[49m\u001b[38;5;28;43mself\u001b[39;49m\u001b[43m,\u001b[49m\u001b[43m \u001b[49m\u001b[38;5;124;43m\"\u001b[39;49m\u001b[38;5;124;43mfound_inf\u001b[39;49m\u001b[38;5;124;43m\"\u001b[39;49m\u001b[43m,\u001b[49m\u001b[43m \u001b[49m\u001b[38;5;28;43;01mNone\u001b[39;49;00m\u001b[43m)\u001b[49m\u001b[43m,\u001b[49m\n\u001b[0;32m    240\u001b[0m \u001b[43m        \u001b[49m\u001b[43mhas_complex\u001b[49m\u001b[38;5;241;43m=\u001b[39;49m\u001b[43mhas_complex\u001b[49m\u001b[43m,\u001b[49m\n\u001b[0;32m    241\u001b[0m \u001b[43m    \u001b[49m\u001b[43m)\u001b[49m\n\u001b[0;32m    243\u001b[0m \u001b[38;5;28;01mreturn\u001b[39;00m loss\n",
      "File \u001b[1;32m~\\AppData\\Roaming\\Python\\Python39\\site-packages\\torch\\optim\\optimizer.py:154\u001b[0m, in \u001b[0;36m_disable_dynamo_if_unsupported.<locals>.wrapper.<locals>.maybe_fallback\u001b[1;34m(*args, **kwargs)\u001b[0m\n\u001b[0;32m    152\u001b[0m     \u001b[38;5;28;01mreturn\u001b[39;00m disabled_func(\u001b[38;5;241m*\u001b[39margs, \u001b[38;5;241m*\u001b[39m\u001b[38;5;241m*\u001b[39mkwargs)\n\u001b[0;32m    153\u001b[0m \u001b[38;5;28;01melse\u001b[39;00m:\n\u001b[1;32m--> 154\u001b[0m     \u001b[38;5;28;01mreturn\u001b[39;00m func(\u001b[38;5;241m*\u001b[39margs, \u001b[38;5;241m*\u001b[39m\u001b[38;5;241m*\u001b[39mkwargs)\n",
      "File \u001b[1;32m~\\AppData\\Roaming\\Python\\Python39\\site-packages\\torch\\optim\\adamw.py:782\u001b[0m, in \u001b[0;36madamw\u001b[1;34m(params, grads, exp_avgs, exp_avg_sqs, max_exp_avg_sqs, state_steps, foreach, capturable, differentiable, fused, grad_scale, found_inf, has_complex, amsgrad, beta1, beta2, lr, weight_decay, eps, maximize)\u001b[0m\n\u001b[0;32m    779\u001b[0m \u001b[38;5;28;01melse\u001b[39;00m:\n\u001b[0;32m    780\u001b[0m     func \u001b[38;5;241m=\u001b[39m _single_tensor_adamw\n\u001b[1;32m--> 782\u001b[0m \u001b[43mfunc\u001b[49m\u001b[43m(\u001b[49m\n\u001b[0;32m    783\u001b[0m \u001b[43m    \u001b[49m\u001b[43mparams\u001b[49m\u001b[43m,\u001b[49m\n\u001b[0;32m    784\u001b[0m \u001b[43m    \u001b[49m\u001b[43mgrads\u001b[49m\u001b[43m,\u001b[49m\n\u001b[0;32m    785\u001b[0m \u001b[43m    \u001b[49m\u001b[43mexp_avgs\u001b[49m\u001b[43m,\u001b[49m\n\u001b[0;32m    786\u001b[0m \u001b[43m    \u001b[49m\u001b[43mexp_avg_sqs\u001b[49m\u001b[43m,\u001b[49m\n\u001b[0;32m    787\u001b[0m \u001b[43m    \u001b[49m\u001b[43mmax_exp_avg_sqs\u001b[49m\u001b[43m,\u001b[49m\n\u001b[0;32m    788\u001b[0m \u001b[43m    \u001b[49m\u001b[43mstate_steps\u001b[49m\u001b[43m,\u001b[49m\n\u001b[0;32m    789\u001b[0m \u001b[43m    \u001b[49m\u001b[43mamsgrad\u001b[49m\u001b[38;5;241;43m=\u001b[39;49m\u001b[43mamsgrad\u001b[49m\u001b[43m,\u001b[49m\n\u001b[0;32m    790\u001b[0m \u001b[43m    \u001b[49m\u001b[43mbeta1\u001b[49m\u001b[38;5;241;43m=\u001b[39;49m\u001b[43mbeta1\u001b[49m\u001b[43m,\u001b[49m\n\u001b[0;32m    791\u001b[0m \u001b[43m    \u001b[49m\u001b[43mbeta2\u001b[49m\u001b[38;5;241;43m=\u001b[39;49m\u001b[43mbeta2\u001b[49m\u001b[43m,\u001b[49m\n\u001b[0;32m    792\u001b[0m \u001b[43m    \u001b[49m\u001b[43mlr\u001b[49m\u001b[38;5;241;43m=\u001b[39;49m\u001b[43mlr\u001b[49m\u001b[43m,\u001b[49m\n\u001b[0;32m    793\u001b[0m \u001b[43m    \u001b[49m\u001b[43mweight_decay\u001b[49m\u001b[38;5;241;43m=\u001b[39;49m\u001b[43mweight_decay\u001b[49m\u001b[43m,\u001b[49m\n\u001b[0;32m    794\u001b[0m \u001b[43m    \u001b[49m\u001b[43meps\u001b[49m\u001b[38;5;241;43m=\u001b[39;49m\u001b[43meps\u001b[49m\u001b[43m,\u001b[49m\n\u001b[0;32m    795\u001b[0m \u001b[43m    \u001b[49m\u001b[43mmaximize\u001b[49m\u001b[38;5;241;43m=\u001b[39;49m\u001b[43mmaximize\u001b[49m\u001b[43m,\u001b[49m\n\u001b[0;32m    796\u001b[0m \u001b[43m    \u001b[49m\u001b[43mcapturable\u001b[49m\u001b[38;5;241;43m=\u001b[39;49m\u001b[43mcapturable\u001b[49m\u001b[43m,\u001b[49m\n\u001b[0;32m    797\u001b[0m \u001b[43m    \u001b[49m\u001b[43mdifferentiable\u001b[49m\u001b[38;5;241;43m=\u001b[39;49m\u001b[43mdifferentiable\u001b[49m\u001b[43m,\u001b[49m\n\u001b[0;32m    798\u001b[0m \u001b[43m    \u001b[49m\u001b[43mgrad_scale\u001b[49m\u001b[38;5;241;43m=\u001b[39;49m\u001b[43mgrad_scale\u001b[49m\u001b[43m,\u001b[49m\n\u001b[0;32m    799\u001b[0m \u001b[43m    \u001b[49m\u001b[43mfound_inf\u001b[49m\u001b[38;5;241;43m=\u001b[39;49m\u001b[43mfound_inf\u001b[49m\u001b[43m,\u001b[49m\n\u001b[0;32m    800\u001b[0m \u001b[43m    \u001b[49m\u001b[43mhas_complex\u001b[49m\u001b[38;5;241;43m=\u001b[39;49m\u001b[43mhas_complex\u001b[49m\u001b[43m,\u001b[49m\n\u001b[0;32m    801\u001b[0m \u001b[43m\u001b[49m\u001b[43m)\u001b[49m\n",
      "\u001b[1;31mKeyboardInterrupt\u001b[0m: "
     ]
    }
   ],
   "source": [
    "for epoch in range(50):\n",
    "    epoch_start = time.time()\n",
    "    model.train()\n",
    "    total_loss = 0\n",
    "\n",
    "    print(f\"\\n🔁 Epoch {epoch+1}/50\")\n",
    "\n",
    "    for batch_idx, (images, labels) in enumerate(train_loader):\n",
    "        images, labels = images.to(device), labels.to(device)\n",
    "\n",
    "        optimizer.zero_grad()\n",
    "\n",
    "        with autocast(device_type='cuda'):\n",
    "            outputs = model(images)\n",
    "            loss = criterion(outputs, labels)\n",
    "\n",
    "        scaler.scale(loss).backward()\n",
    "        scaler.step(optimizer)\n",
    "        scaler.update()\n",
    "\n",
    "        total_loss += loss.item()\n",
    "\n",
    "        if (batch_idx + 1) % 30 == 0 or (batch_idx + 1) == len(train_loader):\n",
    "            avg_loss = total_loss / (batch_idx + 1)\n",
    "            percent = 100 * (batch_idx + 1) / len(train_loader)\n",
    "            print(f\"  🟩 Batch {batch_idx+1:03d}/{len(train_loader)} ({percent:.1f}%) - Avg Loss: {avg_loss:.4f}\", end=\"\\r\")\n",
    "\n",
    "    avg_train_loss = total_loss / len(train_loader)\n",
    "\n",
    "    # Validation phase\n",
    "    model.eval()\n",
    "    correct = 0\n",
    "    total = 0\n",
    "    val_loss = 0\n",
    "\n",
    "    with torch.no_grad():\n",
    "        for images, labels in val_loader:\n",
    "            images, labels = images.to(device), labels.to(device)\n",
    "            with autocast(device_type='cuda'):\n",
    "                outputs = model(images)\n",
    "                loss = criterion(outputs, labels)\n",
    "            val_loss += loss.item()\n",
    "            _, preds = torch.max(outputs, 1)\n",
    "            correct += (preds == labels).sum().item()\n",
    "            total += labels.size(0)\n",
    "\n",
    "    val_loss /= len(val_loader)\n",
    "    acc = 100 * correct / total\n",
    "\n",
    "    epoch_time = time.time() - epoch_start\n",
    "    mins, secs = divmod(epoch_time, 60)\n",
    "\n",
    "    print(f\"Epoch {epoch+1}/50 | Train Loss: {avg_train_loss:.4f} | Val Loss: {val_loss:.4f} | Val Acc: {acc:.2f}% | ⏱ Time: {int(mins)}m {int(secs)}s\")\n",
    "\n",
    "    scheduler.step()\n",
    "\n",
    "    # Save best loss model\n",
    "    if val_loss < best_val_loss:\n",
    "        best_val_loss = val_loss\n",
    "        best_model_wts = model.state_dict()\n",
    "        epochs_no_improve = 0\n",
    "    else:\n",
    "        epochs_no_improve += 1\n",
    "\n",
    "    # Save best accuracy model\n",
    "    if acc > best_val_acc:\n",
    "        best_val_acc = acc\n",
    "        torch.save(model.state_dict(), \"best_emotion_model_resnet34.pth\")\n",
    "        print(\"💾 Saved new best model based on accuracy.\")\n",
    "\n",
    "    # Early stopping\n",
    "    # if epochs_no_improve == patience:\n",
    "    #     print(f\"\\n⛔ Early stopping triggered at epoch {epoch+1}\")\n",
    "    #     break\n",
    "\n",
    "# Final save\n",
    "model.load_state_dict(best_model_wts)\n",
    "torch.save(model.state_dict(), \"emotion_model_resnet34.pth\")\n",
    "print(\"\\n✅ Best model loaded and saved to emotion_model_resnet34.pth\")"
   ]
  }
 ],
 "metadata": {
  "kernelspec": {
   "display_name": "Python 3",
   "language": "python",
   "name": "python3"
  },
  "language_info": {
   "codemirror_mode": {
    "name": "ipython",
    "version": 3
   },
   "file_extension": ".py",
   "mimetype": "text/x-python",
   "name": "python",
   "nbconvert_exporter": "python",
   "pygments_lexer": "ipython3",
   "version": "3.9.11"
  }
 },
 "nbformat": 4,
 "nbformat_minor": 5
}
